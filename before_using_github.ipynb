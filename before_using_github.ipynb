{
 "cells": [
  {
   "cell_type": "markdown",
   "metadata": {},
   "source": [
    "# Tutorial01:Before Using Github"
   ]
  },
  {
   "cell_type": "markdown",
   "metadata": {},
   "source": [
    "#### step01:  create a github account\n",
    "http://github.com/"
   ]
  },
  {
   "cell_type": "markdown",
   "metadata": {},
   "source": [
    "#### step02: set up your head sculpture"
   ]
  },
  {
   "cell_type": "markdown",
   "metadata": {},
   "source": [
    "#### step03: set up SSH Key\n",
    "launch git\n",
    ">$ssh-keygen -t rsa -C \"your_email@example.com\"\n",
    "\n",
    ">Generating ……\n",
    "\n",
    ">Enter file ……\n",
    "\n",
    ">(……):Press Enter\n",
    "\n",
    ">Enter passphrase:**(attention,if you enter your passphrase,there will not print,but it's acctually remember.So,don't worry and go on!)**\n",
    "\n",
    ">Enter again:\n",
    "\n",
    "It will turns out：\n",
    "> Your identification ……\n",
    "\n",
    ">your public key ……\n",
    "\n",
    ">The key fingerprint is:\n",
    "\n",
    ">**fingerprint** youremile\n",
    "\n",
    ">The keys randomart image is :……"
   ]
  },
  {
   "cell_type": "markdown",
   "metadata": {},
   "source": [
    "#### step04: append public key"
   ]
  },
  {
   "cell_type": "markdown",
   "metadata": {},
   "source": [
    "Github-Account Settings-SSH Key\n",
    "\n",
    "Title: your title\n",
    "\n",
    "Key: the content in id_rsa.pub\n",
    "\n",
    "The ways to see the content like follows:\n",
    "\n",
    ">$cat ~/.ssh/id_rsa.pub\n",
    "\n",
    ">ssh~ras **The content of public key** your emile"
   ]
  },
  {
   "cell_type": "markdown",
   "metadata": {},
   "source": [
    "#### step05: create a repository\n",
    "repository name\n",
    "\n",
    "description\n",
    "\n",
    "initialize with a README?\n",
    "\n",
    "Add.gitigonore\n",
    "\n",
    "Add a license"
   ]
  },
  {
   "cell_type": "markdown",
   "metadata": {},
   "source": [
    "#### step06: Connect the repository and open code\n",
    "- clone the existing repository\n",
    "\n",
    ">$git clone git@github.com:username/repositoryname.git\n",
    "\n",
    ">$cd repositoryname\n",
    "\n",
    "- wirte code in the reposiroty and add, commit \n",
    "\n",
    "- then push:\n",
    ">$git push"
   ]
  }
 ],
 "metadata": {
  "kernelspec": {
   "display_name": "Python 2",
   "language": "python",
   "name": "python2"
  },
  "language_info": {
   "codemirror_mode": {
    "name": "ipython",
    "version": 2
   },
   "file_extension": ".py",
   "mimetype": "text/x-python",
   "name": "python",
   "nbconvert_exporter": "python",
   "pygments_lexer": "ipython2",
   "version": "2.7.11"
  }
 },
 "nbformat": 4,
 "nbformat_minor": 0
}
