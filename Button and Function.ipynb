{
 "cells": [
  {
   "cell_type": "markdown",
   "metadata": {},
   "source": [
    "# Button and Function on Github"
   ]
  },
  {
   "cell_type": "markdown",
   "metadata": {},
   "source": [
    "## Tool bar\n",
    "\n",
    "1. LOGO:\n",
    "        swift to dash board\n",
    "2. Search bar\n",
    "3. Explore:\n",
    "        explore the hotest softwar in github\n",
    "4. Gist:\n",
    "        for short script\n",
    "5. Create a new...\n",
    "6. Account settings\n",
    "7. Sign out"
   ]
  },
  {
   "cell_type": "markdown",
   "metadata": {},
   "source": [
    "## Dash Board\n",
    "\n",
    "1. News Feed\n",
    "        News of Follow people and Watch Project\n",
    "1. Pull Request\n",
    "        The pull request you have done\n",
    "1. Issues\n",
    "4. Stars\n",
    "        the repository you don't have to watch, but have interest\n",
    "5. Braodcast\n",
    "6. Repositories you contribute to \n",
    "1. Your Repositories\n"
   ]
  },
  {
   "cell_type": "markdown",
   "metadata": {},
   "source": [
    "## Users\n",
    "\n",
    "1. Uses message\n",
    "1. Popular Repositories\n",
    "1. Repositories contributed to\n",
    "1. Public contributions\n",
    "        green cells\n",
    "1. Contribution Activity\n",
    "1. Repositories\n",
    "        open repositories and fork repositories\n",
    "1. Public Activity"
   ]
  },
  {
   "cell_type": "markdown",
   "metadata": {},
   "source": [
    "## Repositories\n",
    "\n",
    "1. users_name/repository_name\n",
    "1. watch/star/fork\n",
    "    - watch repository means you can see it in notification. it's import to you.\n",
    "    - star repository means you are interested in it. it's just like a label.\n",
    "    - fork repository means how many users involved in this project.\n",
    "1. code\n",
    "1. issue\n",
    "        the discuss\n",
    "1. pull request\n",
    "1. wiki\n",
    "        to share document\n",
    "1. pulse\n",
    "        the development of project can be checked here\n",
    "1. graphs\n",
    "        the index of project\n",
    "1. network\n",
    "        the members of the project\n",
    "1. settings\n",
    "        the settings of the project. Users must have right to see it.\n",
    "1. SSH clone URL\n",
    "1. Clone in Desktop\n",
    "        the destop software\n",
    "1. Download ZIP\n",
    "1. commits\n",
    "1. branches\n",
    "1. releases\n",
    "1. contributors\n",
    "1. Compare & Review\n",
    "1. branch\n",
    "1. path\n",
    "1. Fork this project and Create a new file\n",
    "1. files"
   ]
  },
  {
   "cell_type": "markdown",
   "metadata": {},
   "source": [
    "### Issue\n",
    "\n",
    "issue is to track bug.it's called BTS(Bug Tracking System)\n",
    "\n",
    "you can use issue when you:\n",
    "- find a bug and report\n",
    "- have something to ask author\n",
    "- list tou the taskes in future\n",
    "\n",
    "you can use:\n",
    "- markdown in issue\n",
    "- highlight like this:\n",
    "        ````python\n",
    "        print \"helloworld\"\n",
    "        ````\n",
    "    \n",
    "- add tags to manage\n",
    "- add milestone to check the progress\n",
    "- tasklist like this\n",
    "        - [ ] first task\n",
    "        - [x] second task\n",
    "        - [ ] third task\n",
    "\n",
    "you can operate issue through message you leave\n",
    "    \n",
    "for example: close issue, you can add:\n",
    "- fix #24\n",
    "- fixed #24\n",
    "- close #24\n",
    "- resolve #24\n",
    "\n",
    "Issue can be transfered into Pull Request"
   ]
  },
  {
   "cell_type": "markdown",
   "metadata": {},
   "source": [
    "## Pull Request\n",
    "\n",
    "Pull Request is the core function in Github\n",
    "\n",
    "People discuss in Conversation.\n",
    "\n",
    "quote comment:\n",
    "\n",
    "    pitch on and press 'R'\n",
    "    \n",
    "Commits:\n",
    "\n",
    "    link to Pull Request, the hard-value represents commited code.\n",
    "\n",
    "Files Changed:\n",
    "\n",
    "    the '+' means you can add comments"
   ]
  },
  {
   "cell_type": "markdown",
   "metadata": {},
   "source": [
    "## Wiki\n",
    "\n",
    "Wiki is a doc you can use GFM to edit.\n",
    "\n",
    "Everyone who has right can edit Wiki.\n",
    "\n",
    "Press \"New Pages\" you can add new Wiki pages.\n",
    "\n",
    "Wiki also can be clone to desk and edit then push,using the wiki URL.\n",
    "\n",
    "Wiki usually includes:\n",
    "- FAQ\n",
    "- doc\n",
    "- demo\n",
    "- tutorial\n"
   ]
  },
  {
   "cell_type": "markdown",
   "metadata": {},
   "source": [
    "## Pulse\n",
    "\n",
    "Pulse shows the activity of repository.\n",
    "It inculdes:\n",
    "- active pull requests\n",
    "- active issue\n",
    "- commits\n",
    "- releases published\n"
   ]
  },
  {
   "cell_type": "markdown",
   "metadata": {},
   "source": [
    "## Graphs\n",
    "\n",
    "It includes:\n",
    "- Contributors\n",
    "- Commit Activity\n",
    "- Code Frequency\n",
    "- Punchcard\n",
    "        it shows the time of avtivity"
   ]
  },
  {
   "cell_type": "markdown",
   "metadata": {},
   "source": [
    "## Network"
   ]
  },
  {
   "cell_type": "markdown",
   "metadata": {},
   "source": [
    "## Settings\n",
    "\n",
    "** Github pages **\n",
    "\n",
    "It helps you create a Web page to demostrate the content of repository."
   ]
  }
 ],
 "metadata": {
  "kernelspec": {
   "display_name": "Python 2",
   "language": "python",
   "name": "python2"
  },
  "language_info": {
   "codemirror_mode": {
    "name": "ipython",
    "version": 2
   },
   "file_extension": ".py",
   "mimetype": "text/x-python",
   "name": "python",
   "nbconvert_exporter": "python",
   "pygments_lexer": "ipython2",
   "version": "2.7.11"
  }
 },
 "nbformat": 4,
 "nbformat_minor": 0
}
