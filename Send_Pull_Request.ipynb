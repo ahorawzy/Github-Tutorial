{
 "cells": [
  {
   "cell_type": "markdown",
   "metadata": {},
   "source": [
    "# Send Pull Request"
   ]
  },
  {
   "cell_type": "markdown",
   "metadata": {},
   "source": [
    "## What is Pull Request?\n",
    "\n",
    "Pull Request is tha act when you edit the code and wish to be merged and admitted in other's repository.\n",
    "When you delivery a Pull Request, the manager's repository will receive a Issue with code.\n",
    "The Pull Request will be admitted or not is determined by manager of repository. If it's not admitted, usually you will receive a comment.\n",
    "If your Pull Request is admitted, you will be a Contributor of the repository."
   ]
  },
  {
   "cell_type": "markdown",
   "metadata": {},
   "source": [
    "## What is the step?\n",
    "\n",
    "### Step 01: Fork\n",
    "Fork the repository you would like to edit.\n",
    "\n",
    "### Step 02: Clone\n",
    "Clone the repository to your disk.use code like this\n",
    "\n",
    "````python\n",
    "$ git clone git@github.com:user_name/repository_name.git\n",
    "````\n"
   ]
  },
  {
   "cell_type": "markdown",
   "metadata": {},
   "source": [
    "### Step 03: Branch\n",
    "\n",
    "The good habit that edit code in topic branch should be cultivated.\n",
    "1. confirm branch\n",
    "    ````python\n",
    "    git branch -a\n",
    "    ````\n",
    "\n",
    "1.  create topic branch\n",
    "    ````python\n",
    "    git checkout -b work gh-pages\n",
    "    ````\n",
    "work is the topic branch, gh-pages is the raw branch\n",
    "\n",
    "    ````python\n",
    "    git branch -a\n",
    "    ````\n",
    "confirm again\n",
    "\n",
    "    ````python\n",
    "    ls\n",
    "    ````\n",
    "check the file list\n",
    "\n",
    "1. edit\n",
    "    edit code\n",
    "\n",
    "1. commit\n",
    "    use git diff to confirm\n",
    "    ````python\n",
    "    git diff\n",
    "    ````\n",
    "\n",
    "    add and commit\n",
    "    ````python\n",
    "    git add file\n",
    "    git commit -m \"message\"\n",
    "    ````\n",
    "    \n",
    "1. create remote topic branch\n",
    "    ````python\n",
    "    git push origin work\n",
    "    git branch -a\n",
    "    ````\n"
   ]
  },
  {
   "cell_type": "markdown",
   "metadata": {
    "collapsed": true
   },
   "source": [
    "## Send Pull Request\n",
    "\n",
    "Log in Github.\n",
    "\n",
    "If you confirm this is the exact Pull Request, press the Create Pull Request button and fill a table to comment."
   ]
  },
  {
   "cell_type": "markdown",
   "metadata": {},
   "source": [
    "## More Effective way\n",
    "\n",
    "### Send Pull Request through the progress.\n",
    "You can send Pull Request when the progress is pushing forward, instead of when the progrogress is over.\n",
    "In order to prevent the unfinished Pull Request is merged, you can title it [WIP] in the begining.\n",
    "\n",
    "### Don't Need Fork\n",
    "If you have the right, you don't need to fork. You can send Pull Request in the branch directly."
   ]
  },
  {
   "cell_type": "markdown",
   "metadata": {},
   "source": [
    "## Maintenance of repository\n",
    "\n",
    "If you fork or clone a repository, it will go far away from the newest origin repository.\n",
    "So you must maintain the repository to keep the newest status.\n",
    "\n",
    "### Step01: Fork and Clone\n",
    "fork on Github\n",
    "````python\n",
    "git clone git@github.com:user_name/repository_name.git\n",
    "cd repository_name\n",
    "````\n",
    "\n",
    "### Step02: Rename the origin repository\n",
    "````python\n",
    "$ git remote add XXX git://github.com/user_name/repository_name.git\n",
    "````\n",
    "XXX is the identity of origin repository.\n"
   ]
  },
  {
   "cell_type": "markdown",
   "metadata": {},
   "source": [
    "### Step03: Achieve the newest data\n",
    "\n",
    "````python\n",
    "git fetch XXX\n",
    "git merge XXX/master\n",
    "````"
   ]
  }
 ],
 "metadata": {
  "kernelspec": {
   "display_name": "Python 2",
   "language": "python",
   "name": "python2"
  },
  "language_info": {
   "codemirror_mode": {
    "name": "ipython",
    "version": 2
   },
   "file_extension": ".py",
   "mimetype": "text/x-python",
   "name": "python",
   "nbconvert_exporter": "python",
   "pygments_lexer": "ipython2",
   "version": "2.7.11"
  }
 },
 "nbformat": 4,
 "nbformat_minor": 0
}
